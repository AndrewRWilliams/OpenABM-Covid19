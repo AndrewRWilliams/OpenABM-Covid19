{
 "cells": [
  {
   "cell_type": "code",
   "execution_count": 1,
   "metadata": {},
   "outputs": [],
   "source": [
    "import pickle"
   ]
  },
  {
   "cell_type": "code",
   "execution_count": 2,
   "metadata": {},
   "outputs": [],
   "source": [
    "filename = 'scenario_basic.pkl'\n",
    "\n",
    "infile = open(filename, 'rb')\n",
    "new_dict = pickle.load(infile)\n",
    "infile.close()\n"
   ]
  },
  {
   "cell_type": "code",
   "execution_count": 6,
   "metadata": {},
   "outputs": [],
   "source": [
    "first = new_dict[0]"
   ]
  },
  {
   "cell_type": "code",
   "execution_count": 10,
   "metadata": {},
   "outputs": [],
   "source": [
    "second = new_dict[1]"
   ]
  },
  {
   "cell_type": "code",
   "execution_count": 1,
   "metadata": {},
   "outputs": [
    {
     "output_type": "error",
     "ename": "NameError",
     "evalue": "name 'second' is not defined",
     "traceback": [
      "\u001b[1;31m---------------------------------------------------------------------------\u001b[0m",
      "\u001b[1;31mNameError\u001b[0m                                 Traceback (most recent call last)",
      "\u001b[1;32m<ipython-input-1-4b79afe9ae81>\u001b[0m in \u001b[0;36m<module>\u001b[1;34m\u001b[0m\n\u001b[1;32m----> 1\u001b[1;33m \u001b[0mprint\u001b[0m\u001b[1;33m(\u001b[0m\u001b[0mhelp\u001b[0m\u001b[1;33m(\u001b[0m\u001b[0msecond\u001b[0m\u001b[1;33m)\u001b[0m\u001b[1;33m)\u001b[0m\u001b[1;33m\u001b[0m\u001b[1;33m\u001b[0m\u001b[0m\n\u001b[0m",
      "\u001b[1;31mNameError\u001b[0m: name 'second' is not defined"
     ]
    }
   ],
   "source": [
    "print(help(second))"
   ]
  },
  {
   "cell_type": "code",
   "execution_count": 17,
   "metadata": {},
   "outputs": [],
   "source": [
    "third = new_dict[2]"
   ]
  },
  {
   "cell_type": "code",
   "execution_count": 28,
   "metadata": {
    "tags": [
     "outputPrepend"
    ]
   },
   "outputs": [
    {
     "output_type": "stream",
     "name": "stdout",
     "text": "E: Water supply; sewerage and waste management'>, <Decile.seven: '7'>): 200, (<Region.N_NI: 'UKN: Northern Ireland'>, <Sector.E_WATER: 'E: Water supply; sewerage and waste management'>, <Decile.eight: '8'>): 200, (<Region.N_NI: 'UKN: Northern Ireland'>, <Sector.E_WATER: 'E: Water supply; sewerage and waste management'>, <Decile.nine: '9'>): 200, (<Region.N_NI: 'UKN: Northern Ireland'>, <Sector.F_CONSTRUCTION: 'F: Construction'>, <Decile.one: '1'>): 200, (<Region.N_NI: 'UKN: Northern Ireland'>, <Sector.F_CONSTRUCTION: 'F: Construction'>, <Decile.two: '2'>): 200, (<Region.N_NI: 'UKN: Northern Ireland'>, <Sector.F_CONSTRUCTION: 'F: Construction'>, <Decile.three: '3'>): 200, (<Region.N_NI: 'UKN: Northern Ireland'>, <Sector.F_CONSTRUCTION: 'F: Construction'>, <Decile.four: '4'>): 200, (<Region.N_NI: 'UKN: Northern Ireland'>, <Sector.F_CONSTRUCTION: 'F: Construction'>, <Decile.five: '5'>): 200, (<Region.N_NI: 'UKN: Northern Ireland'>, <Sector.F_CONSTRUCTION: 'F: Construction'>, <Decile.six: '6'>): 200, (<Region.N_NI: 'UKN: Northern Ireland'>, <Sector.F_CONSTRUCTION: 'F: Construction'>, <Decile.seven: '7'>): 200, (<Region.N_NI: 'UKN: Northern Ireland'>, <Sector.F_CONSTRUCTION: 'F: Construction'>, <Decile.eight: '8'>): 200, (<Region.N_NI: 'UKN: Northern Ireland'>, <Sector.F_CONSTRUCTION: 'F: Construction'>, <Decile.nine: '9'>): 200, (<Region.N_NI: 'UKN: Northern Ireland'>, <Sector.G_TRADE: 'G: Wholesale and retail trade; repair of motor vehicles'>, <Decile.one: '1'>): 200, (<Region.N_NI: 'UKN: Northern Ireland'>, <Sector.G_TRADE: 'G: Wholesale and retail trade; repair of motor vehicles'>, <Decile.two: '2'>): 200, (<Region.N_NI: 'UKN: Northern Ireland'>, <Sector.G_TRADE: 'G: Wholesale and retail trade; repair of motor vehicles'>, <Decile.three: '3'>): 200, (<Region.N_NI: 'UKN: Northern Ireland'>, <Sector.G_TRADE: 'G: Wholesale and retail trade; repair of motor vehicles'>, <Decile.four: '4'>): 200, (<Region.N_NI: 'UKN: Northern Ireland'>, <Sector.G_TRADE: 'G: Wholesale and retail trade; repair of motor vehicles'>, <Decile.five: '5'>): 200, (<Region.N_NI: 'UKN: Northern Ireland'>, <Sector.G_TRADE: 'G: Wholesale and retail trade; repair of motor vehicles'>, <Decile.six: '6'>): 200, (<Region.N_NI: 'UKN: Northern Ireland'>, <Sector.G_TRADE: 'G: Wholesale and retail trade; repair of motor vehicles'>, <Decile.seven: '7'>): 200, (<Region.N_NI: 'UKN: Northern Ireland'>, <Sector.G_TRADE: 'G: Wholesale and retail trade; repair of motor vehicles'>, <Decile.eight: '8'>): 200, (<Region.N_NI: 'UKN: Northern Ireland'>, <Sector.G_TRADE: 'G: Wholesale and retail trade; repair of motor vehicles'>, <Decile.nine: '9'>): 200, (<Region.N_NI: 'UKN: Northern Ireland'>, <Sector.H_TRANSPORT: 'H: Transportation and storage'>, <Decile.one: '1'>): 200, (<Region.N_NI: 'UKN: Northern Ireland'>, <Sector.H_TRANSPORT: 'H: Transportation and storage'>, <Decile.two: '2'>): 200, (<Region.N_NI: 'UKN: Northern Ireland'>, <Sector.H_TRANSPORT: 'H: Transportation and storage'>, <Decile.three: '3'>): 200, (<Region.N_NI: 'UKN: Northern Ireland'>, <Sector.H_TRANSPORT: 'H: Transportation and storage'>, <Decile.four: '4'>): 200, (<Region.N_NI: 'UKN: Northern Ireland'>, <Sector.H_TRANSPORT: 'H: Transportation and storage'>, <Decile.five: '5'>): 200, (<Region.N_NI: 'UKN: Northern Ireland'>, <Sector.H_TRANSPORT: 'H: Transportation and storage'>, <Decile.six: '6'>): 200, (<Region.N_NI: 'UKN: Northern Ireland'>, <Sector.H_TRANSPORT: 'H: Transportation and storage'>, <Decile.seven: '7'>): 200, (<Region.N_NI: 'UKN: Northern Ireland'>, <Sector.H_TRANSPORT: 'H: Transportation and storage'>, <Decile.eight: '8'>): 200, (<Region.N_NI: 'UKN: Northern Ireland'>, <Sector.H_TRANSPORT: 'H: Transportation and storage'>, <Decile.nine: '9'>): 200, (<Region.N_NI: 'UKN: Northern Ireland'>, <Sector.I_ACCOMODATION: 'I: Accommodation and food service activities'>, <Decile.one: '1'>): 200, (<Region.N_NI: 'UKN: Northern Ireland'>, <Sector.I_ACCOMODATION: 'I: Accommodation and food service activities'>, <Decile.two: '2'>): 200, (<Region.N_NI: 'UKN: Northern Ireland'>, <Sector.I_ACCOMODATION: 'I: Accommodation and food service activities'>, <Decile.three: '3'>): 200, (<Region.N_NI: 'UKN: Northern Ireland'>, <Sector.I_ACCOMODATION: 'I: Accommodation and food service activities'>, <Decile.four: '4'>): 200, (<Region.N_NI: 'UKN: Northern Ireland'>, <Sector.I_ACCOMODATION: 'I: Accommodation and food service activities'>, <Decile.five: '5'>): 200, (<Region.N_NI: 'UKN: Northern Ireland'>, <Sector.I_ACCOMODATION: 'I: Accommodation and food service activities'>, <Decile.six: '6'>): 200, (<Region.N_NI: 'UKN: Northern Ireland'>, <Sector.I_ACCOMODATION: 'I: Accommodation and food service activities'>, <Decile.seven: '7'>): 200, (<Region.N_NI: 'UKN: Northern Ireland'>, <Sector.I_ACCOMODATION: 'I: Accommodation and food service activities'>, <Decile.eight: '8'>): 200, (<Region.N_NI: 'UKN: Northern Ireland'>, <Sector.I_ACCOMODATION: 'I: Accommodation and food service activities'>, <Decile.nine: '9'>): 200, (<Region.N_NI: 'UKN: Northern Ireland'>, <Sector.J_COMMUNICATION: 'J: Information and communication'>, <Decile.one: '1'>): 200, (<Region.N_NI: 'UKN: Northern Ireland'>, <Sector.J_COMMUNICATION: 'J: Information and communication'>, <Decile.two: '2'>): 200, (<Region.N_NI: 'UKN: Northern Ireland'>, <Sector.J_COMMUNICATION: 'J: Information and communication'>, <Decile.three: '3'>): 200, (<Region.N_NI: 'UKN: Northern Ireland'>, <Sector.J_COMMUNICATION: 'J: Information and communication'>, <Decile.four: '4'>): 200, (<Region.N_NI: 'UKN: Northern Ireland'>, <Sector.J_COMMUNICATION: 'J: Information and communication'>, <Decile.five: '5'>): 200, (<Region.N_NI: 'UKN: Northern Ireland'>, <Sector.J_COMMUNICATION: 'J: Information and communication'>, <Decile.six: '6'>): 200, (<Region.N_NI: 'UKN: Northern Ireland'>, <Sector.J_COMMUNICATION: 'J: Information and communication'>, <Decile.seven: '7'>): 200, (<Region.N_NI: 'UKN: Northern Ireland'>, <Sector.J_COMMUNICATION: 'J: Information and communication'>, <Decile.eight: '8'>): 200, (<Region.N_NI: 'UKN: Northern Ireland'>, <Sector.J_COMMUNICATION: 'J: Information and communication'>, <Decile.nine: '9'>): 200, (<Region.N_NI: 'UKN: Northern Ireland'>, <Sector.K_FINANCIAL: 'K: Financial and insurance activities'>, <Decile.one: '1'>): 200, (<Region.N_NI: 'UKN: Northern Ireland'>, <Sector.K_FINANCIAL: 'K: Financial and insurance activities'>, <Decile.two: '2'>): 200, (<Region.N_NI: 'UKN: Northern Ireland'>, <Sector.K_FINANCIAL: 'K: Financial and insurance activities'>, <Decile.three: '3'>): 200, (<Region.N_NI: 'UKN: Northern Ireland'>, <Sector.K_FINANCIAL: 'K: Financial and insurance activities'>, <Decile.four: '4'>): 200, (<Region.N_NI: 'UKN: Northern Ireland'>, <Sector.K_FINANCIAL: 'K: Financial and insurance activities'>, <Decile.five: '5'>): 200, (<Region.N_NI: 'UKN: Northern Ireland'>, <Sector.K_FINANCIAL: 'K: Financial and insurance activities'>, <Decile.six: '6'>): 200, (<Region.N_NI: 'UKN: Northern Ireland'>, <Sector.K_FINANCIAL: 'K: Financial and insurance activities'>, <Decile.seven: '7'>): 200, (<Region.N_NI: 'UKN: Northern Ireland'>, <Sector.K_FINANCIAL: 'K: Financial and insurance activities'>, <Decile.eight: '8'>): 200, (<Region.N_NI: 'UKN: Northern Ireland'>, <Sector.K_FINANCIAL: 'K: Financial and insurance activities'>, <Decile.nine: '9'>): 200, (<Region.N_NI: 'UKN: Northern Ireland'>, <Sector.L_REAL_ESTATE: 'L: Real estate activities'>, <Decile.one: '1'>): 200, (<Region.N_NI: 'UKN: Northern Ireland'>, <Sector.L_REAL_ESTATE: 'L: Real estate activities'>, <Decile.two: '2'>): 200, (<Region.N_NI: 'UKN: Northern Ireland'>, <Sector.L_REAL_ESTATE: 'L: Real estate activities'>, <Decile.three: '3'>): 200, (<Region.N_NI: 'UKN: Northern Ireland'>, <Sector.L_REAL_ESTATE: 'L: Real estate activities'>, <Decile.four: '4'>): 200, (<Region.N_NI: 'UKN: Northern Ireland'>, <Sector.L_REAL_ESTATE: 'L: Real estate activities'>, <Decile.five: '5'>): 200, (<Region.N_NI: 'UKN: Northern Ireland'>, <Sector.L_REAL_ESTATE: 'L: Real estate activities'>, <Decile.six: '6'>): 200, (<Region.N_NI: 'UKN: Northern Ireland'>, <Sector.L_REAL_ESTATE: 'L: Real estate activities'>, <Decile.seven: '7'>): 200, (<Region.N_NI: 'UKN: Northern Ireland'>, <Sector.L_REAL_ESTATE: 'L: Real estate activities'>, <Decile.eight: '8'>): 200, (<Region.N_NI: 'UKN: Northern Ireland'>, <Sector.L_REAL_ESTATE: 'L: Real estate activities'>, <Decile.nine: '9'>): 200, (<Region.N_NI: 'UKN: Northern Ireland'>, <Sector.M_PROFESSIONAL: 'M: Professional, scientific and technical activities'>, <Decile.one: '1'>): 200, (<Region.N_NI: 'UKN: Northern Ireland'>, <Sector.M_PROFESSIONAL: 'M: Professional, scientific and technical activities'>, <Decile.two: '2'>): 200, (<Region.N_NI: 'UKN: Northern Ireland'>, <Sector.M_PROFESSIONAL: 'M: Professional, scientific and technical activities'>, <Decile.three: '3'>): 200, (<Region.N_NI: 'UKN: Northern Ireland'>, <Sector.M_PROFESSIONAL: 'M: Professional, scientific and technical activities'>, <Decile.four: '4'>): 200, (<Region.N_NI: 'UKN: Northern Ireland'>, <Sector.M_PROFESSIONAL: 'M: Professional, scientific and technical activities'>, <Decile.five: '5'>): 200, (<Region.N_NI: 'UKN: Northern Ireland'>, <Sector.M_PROFESSIONAL: 'M: Professional, scientific and technical activities'>, <Decile.six: '6'>): 200, (<Region.N_NI: 'UKN: Northern Ireland'>, <Sector.M_PROFESSIONAL: 'M: Professional, scientific and technical activities'>, <Decile.seven: '7'>): 200, (<Region.N_NI: 'UKN: Northern Ireland'>, <Sector.M_PROFESSIONAL: 'M: Professional, scientific and technical activities'>, <Decile.eight: '8'>): 200, (<Region.N_NI: 'UKN: Northern Ireland'>, <Sector.M_PROFESSIONAL: 'M: Professional, scientific and technical activities'>, <Decile.nine: '9'>): 200, (<Region.N_NI: 'UKN: Northern Ireland'>, <Sector.N_ADMINISTRATIVE: 'N: Administrative and support service activities'>, <Decile.one: '1'>): 200, (<Region.N_NI: 'UKN: Northern Ireland'>, <Sector.N_ADMINISTRATIVE: 'N: Administrative and support service activities'>, <Decile.two: '2'>): 200, (<Region.N_NI: 'UKN: Northern Ireland'>, <Sector.N_ADMINISTRATIVE: 'N: Administrative and support service activities'>, <Decile.three: '3'>): 200, (<Region.N_NI: 'UKN: Northern Ireland'>, <Sector.N_ADMINISTRATIVE: 'N: Administrative and support service activities'>, <Decile.four: '4'>): 200, (<Region.N_NI: 'UKN: Northern Ireland'>, <Sector.N_ADMINISTRATIVE: 'N: Administrative and support service activities'>, <Decile.five: '5'>): 200, (<Region.N_NI: 'UKN: Northern Ireland'>, <Sector.N_ADMINISTRATIVE: 'N: Administrative and support service activities'>, <Decile.six: '6'>): 200, (<Region.N_NI: 'UKN: Northern Ireland'>, <Sector.N_ADMINISTRATIVE: 'N: Administrative and support service activities'>, <Decile.seven: '7'>): 200, (<Region.N_NI: 'UKN: Northern Ireland'>, <Sector.N_ADMINISTRATIVE: 'N: Administrative and support service activities'>, <Decile.eight: '8'>): 200, (<Region.N_NI: 'UKN: Northern Ireland'>, <Sector.N_ADMINISTRATIVE: 'N: Administrative and support service activities'>, <Decile.nine: '9'>): 200, (<Region.N_NI: 'UKN: Northern Ireland'>, <Sector.O_PUBLIC: 'O: Public administration and defence'>, <Decile.one: '1'>): 200, (<Region.N_NI: 'UKN: Northern Ireland'>, <Sector.O_PUBLIC: 'O: Public administration and defence'>, <Decile.two: '2'>): 200, (<Region.N_NI: 'UKN: Northern Ireland'>, <Sector.O_PUBLIC: 'O: Public administration and defence'>, <Decile.three: '3'>): 200, (<Region.N_NI: 'UKN: Northern Ireland'>, <Sector.O_PUBLIC: 'O: Public administration and defence'>, <Decile.four: '4'>): 200, (<Region.N_NI: 'UKN: Northern Ireland'>, <Sector.O_PUBLIC: 'O: Public administration and defence'>, <Decile.five: '5'>): 200, (<Region.N_NI: 'UKN: Northern Ireland'>, <Sector.O_PUBLIC: 'O: Public administration and defence'>, <Decile.six: '6'>): 200, (<Region.N_NI: 'UKN: Northern Ireland'>, <Sector.O_PUBLIC: 'O: Public administration and defence'>, <Decile.seven: '7'>): 200, (<Region.N_NI: 'UKN: Northern Ireland'>, <Sector.O_PUBLIC: 'O: Public administration and defence'>, <Decile.eight: '8'>): 200, (<Region.N_NI: 'UKN: Northern Ireland'>, <Sector.O_PUBLIC: 'O: Public administration and defence'>, <Decile.nine: '9'>): 200, (<Region.N_NI: 'UKN: Northern Ireland'>, <Sector.P_EDUCATION: 'P: Education'>, <Decile.one: '1'>): 200, (<Region.N_NI: 'UKN: Northern Ireland'>, <Sector.P_EDUCATION: 'P: Education'>, <Decile.two: '2'>): 200, (<Region.N_NI: 'UKN: Northern Ireland'>, <Sector.P_EDUCATION: 'P: Education'>, <Decile.three: '3'>): 200, (<Region.N_NI: 'UKN: Northern Ireland'>, <Sector.P_EDUCATION: 'P: Education'>, <Decile.four: '4'>): 200, (<Region.N_NI: 'UKN: Northern Ireland'>, <Sector.P_EDUCATION: 'P: Education'>, <Decile.five: '5'>): 200, (<Region.N_NI: 'UKN: Northern Ireland'>, <Sector.P_EDUCATION: 'P: Education'>, <Decile.six: '6'>): 200, (<Region.N_NI: 'UKN: Northern Ireland'>, <Sector.P_EDUCATION: 'P: Education'>, <Decile.seven: '7'>): 200, (<Region.N_NI: 'UKN: Northern Ireland'>, <Sector.P_EDUCATION: 'P: Education'>, <Decile.eight: '8'>): 200, (<Region.N_NI: 'UKN: Northern Ireland'>, <Sector.P_EDUCATION: 'P: Education'>, <Decile.nine: '9'>): 200, (<Region.N_NI: 'UKN: Northern Ireland'>, <Sector.Q_HEALTH: 'Q: Human health and social work activities'>, <Decile.one: '1'>): 200, (<Region.N_NI: 'UKN: Northern Ireland'>, <Sector.Q_HEALTH: 'Q: Human health and social work activities'>, <Decile.two: '2'>): 200, (<Region.N_NI: 'UKN: Northern Ireland'>, <Sector.Q_HEALTH: 'Q: Human health and social work activities'>, <Decile.three: '3'>): 200, (<Region.N_NI: 'UKN: Northern Ireland'>, <Sector.Q_HEALTH: 'Q: Human health and social work activities'>, <Decile.four: '4'>): 200, (<Region.N_NI: 'UKN: Northern Ireland'>, <Sector.Q_HEALTH: 'Q: Human health and social work activities'>, <Decile.five: '5'>): 200, (<Region.N_NI: 'UKN: Northern Ireland'>, <Sector.Q_HEALTH: 'Q: Human health and social work activities'>, <Decile.six: '6'>): 200, (<Region.N_NI: 'UKN: Northern Ireland'>, <Sector.Q_HEALTH: 'Q: Human health and social work activities'>, <Decile.seven: '7'>): 200, (<Region.N_NI: 'UKN: Northern Ireland'>, <Sector.Q_HEALTH: 'Q: Human health and social work activities'>, <Decile.eight: '8'>): 200, (<Region.N_NI: 'UKN: Northern Ireland'>, <Sector.Q_HEALTH: 'Q: Human health and social work activities'>, <Decile.nine: '9'>): 200, (<Region.N_NI: 'UKN: Northern Ireland'>, <Sector.R_ARTS: 'R: Arts, entertainment and recreation'>, <Decile.one: '1'>): 200, (<Region.N_NI: 'UKN: Northern Ireland'>, <Sector.R_ARTS: 'R: Arts, entertainment and recreation'>, <Decile.two: '2'>): 200, (<Region.N_NI: 'UKN: Northern Ireland'>, <Sector.R_ARTS: 'R: Arts, entertainment and recreation'>, <Decile.three: '3'>): 200, (<Region.N_NI: 'UKN: Northern Ireland'>, <Sector.R_ARTS: 'R: Arts, entertainment and recreation'>, <Decile.four: '4'>): 200, (<Region.N_NI: 'UKN: Northern Ireland'>, <Sector.R_ARTS: 'R: Arts, entertainment and recreation'>, <Decile.five: '5'>): 200, (<Region.N_NI: 'UKN: Northern Ireland'>, <Sector.R_ARTS: 'R: Arts, entertainment and recreation'>, <Decile.six: '6'>): 200, (<Region.N_NI: 'UKN: Northern Ireland'>, <Sector.R_ARTS: 'R: Arts, entertainment and recreation'>, <Decile.seven: '7'>): 200, (<Region.N_NI: 'UKN: Northern Ireland'>, <Sector.R_ARTS: 'R: Arts, entertainment and recreation'>, <Decile.eight: '8'>): 200, (<Region.N_NI: 'UKN: Northern Ireland'>, <Sector.R_ARTS: 'R: Arts, entertainment and recreation'>, <Decile.nine: '9'>): 200, (<Region.N_NI: 'UKN: Northern Ireland'>, <Sector.S_OTHER: 'S: Other service activities'>, <Decile.one: '1'>): 200, (<Region.N_NI: 'UKN: Northern Ireland'>, <Sector.S_OTHER: 'S: Other service activities'>, <Decile.two: '2'>): 200, (<Region.N_NI: 'UKN: Northern Ireland'>, <Sector.S_OTHER: 'S: Other service activities'>, <Decile.three: '3'>): 200, (<Region.N_NI: 'UKN: Northern Ireland'>, <Sector.S_OTHER: 'S: Other service activities'>, <Decile.four: '4'>): 200, (<Region.N_NI: 'UKN: Northern Ireland'>, <Sector.S_OTHER: 'S: Other service activities'>, <Decile.five: '5'>): 200, (<Region.N_NI: 'UKN: Northern Ireland'>, <Sector.S_OTHER: 'S: Other service activities'>, <Decile.six: '6'>): 200, (<Region.N_NI: 'UKN: Northern Ireland'>, <Sector.S_OTHER: 'S: Other service activities'>, <Decile.seven: '7'>): 200, (<Region.N_NI: 'UKN: Northern Ireland'>, <Sector.S_OTHER: 'S: Other service activities'>, <Decile.eight: '8'>): 200, (<Region.N_NI: 'UKN: Northern Ireland'>, <Sector.S_OTHER: 'S: Other service activities'>, <Decile.nine: '9'>): 200, (<Region.N_NI: 'UKN: Northern Ireland'>, <Sector.T_HOUSEHOLD: 'T: Activities of households'>, <Decile.one: '1'>): 200, (<Region.N_NI: 'UKN: Northern Ireland'>, <Sector.T_HOUSEHOLD: 'T: Activities of households'>, <Decile.two: '2'>): 200, (<Region.N_NI: 'UKN: Northern Ireland'>, <Sector.T_HOUSEHOLD: 'T: Activities of households'>, <Decile.three: '3'>): 200, (<Region.N_NI: 'UKN: Northern Ireland'>, <Sector.T_HOUSEHOLD: 'T: Activities of households'>, <Decile.four: '4'>): 200, (<Region.N_NI: 'UKN: Northern Ireland'>, <Sector.T_HOUSEHOLD: 'T: Activities of households'>, <Decile.five: '5'>): 200, (<Region.N_NI: 'UKN: Northern Ireland'>, <Sector.T_HOUSEHOLD: 'T: Activities of households'>, <Decile.six: '6'>): 200, (<Region.N_NI: 'UKN: Northern Ireland'>, <Sector.T_HOUSEHOLD: 'T: Activities of households'>, <Decile.seven: '7'>): 200, (<Region.N_NI: 'UKN: Northern Ireland'>, <Sector.T_HOUSEHOLD: 'T: Activities of households'>, <Decile.eight: '8'>): 200, (<Region.N_NI: 'UKN: Northern Ireland'>, <Sector.T_HOUSEHOLD: 'T: Activities of households'>, <Decile.nine: '9'>): 200}, personal_bankruptcy={<Region.C_NE: 'UKC: North East'>: 0.002171264387148183, <Region.D_NW: 'UKD: North West'>: 0.0021712643871481868, <Region.E_YORKSHIRE: 'UKE: Yorkshire and The Humber'>: 0.0021712643871481846, <Region.F_EM: 'UKF: East Midlands'>: 0.0021712643871481837, <Region.G_WM: 'UKG: West Midlands'>: 0.002171264387148187, <Region.H_E: 'UKH: East of England'>: 0.002171264387148186, <Region.I_LONDON: 'UKI: London'>: 0.0021712643871481876, <Region.J_SE: 'UKJ: South East'>: 0.002171264387148183, <Region.K_SW: 'UKK: South West'>: 0.0021712643871481863, <Region.L_WALES: 'UKL: Wales'>: 0.0021712643871481824, <Region.M_SCOTLAND: 'UKM: Scotland'>: 0.002171264387148183, <Region.N_NI: 'UKN: Northern Ireland'>: 0.002171264387148182}, demand_reduction={<Sector.A_AGRICULTURE: 'A: Agriculture, forestry and fishing'>: 1.930398815130907e-06, <Sector.B_MINING: 'B: Mining and quarrying'>: 1.927125209633118e-06, <Sector.C_MANUFACTURING: 'C: Manufacturing'>: 1.9300733933302894e-06, <Sector.D_ELECTRICITY: 'D: Electricity, gas, steam and air conditioning supply'>: 0.0, <Sector.E_WATER: 'E: Water supply; sewerage and waste management'>: 1.9266617852231605e-06, <Sector.F_CONSTRUCTION: 'F: Construction'>: 1.9263657540236068e-06, <Sector.G_TRADE: 'G: Wholesale and retail trade; repair of motor vehicles'>: 1.930464815336208e-06, <Sector.H_TRANSPORT: 'H: Transportation and storage'>: 1.930192053523072e-06, <Sector.I_ACCOMODATION: 'I: Accommodation and food service activities'>: 1.9294264054225962e-06, <Sector.J_COMMUNICATION: 'J: Information and communication'>: 1.9306537871743856e-06, <Sector.K_FINANCIAL: 'K: Financial and insurance activities'>: 1.9280770350293963e-06, <Sector.L_REAL_ESTATE: 'L: Real estate activities'>: 1.9257956731522086e-06, <Sector.M_PROFESSIONAL: 'M: Professional, scientific and technical activities'>: 1.9292953949978653e-06, <Sector.N_ADMINISTRATIVE: 'N: Administrative and support service activities'>: 1.929117533161495e-06, <Sector.O_PUBLIC: 'O: Public administration and defence'>: 0.0, <Sector.P_EDUCATION: 'P: Education'>: 1.9282915718621396e-06, <Sector.Q_HEALTH: 'Q: Human health and social work activities'>: 1.9290703034968715e-06, <Sector.R_ARTS: 'R: Arts, entertainment and recreation'>: 1.931719970982293e-06, <Sector.S_OTHER: 'S: Other service activities'>: 1.9257988732590547e-06, <Sector.T_HOUSEHOLD: 'T: Activities of households'>: 1.9302596659942495e-06}), previous=None)\n"
    }
   ],
   "source": [
    "print(third[1][0])"
   ]
  },
  {
   "cell_type": "code",
   "execution_count": null,
   "metadata": {},
   "outputs": [],
   "source": []
  }
 ],
 "metadata": {
  "language_info": {
   "codemirror_mode": {
    "name": "ipython",
    "version": 3
   },
   "file_extension": ".py",
   "mimetype": "text/x-python",
   "name": "python",
   "nbconvert_exporter": "python",
   "pygments_lexer": "ipython3",
   "version": "3.7.7-final"
  },
  "orig_nbformat": 2,
  "kernelspec": {
   "name": "python37764bitbaseconda8a1c4e962956462b8a7c6eab25fabba8",
   "display_name": "Python 3.7.7 64-bit ('base': conda)"
  }
 },
 "nbformat": 4,
 "nbformat_minor": 2
}