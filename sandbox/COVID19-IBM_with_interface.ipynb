{
 "cells": [
  {
   "cell_type": "markdown",
   "metadata": {},
   "source": [
    "# Summary of output from model of COVID-19 <a class=\"anchor\" id=\"home\"></a>\n",
    "\n",
    "### Table of contents\n",
    "\n",
    "*Output from a single simulation*\n",
    "* [Parameter values and assumptions](#parameter-values-assumptions)\n",
    "* [Time series](#time-series)\n",
    "* [Interactions between individuals](#interactions)\n",
    "* [Transmission network](#transmission-network)\n",
    "* [Effective reproduction number](#effective-reproduction-number)\n",
    "* [Age-stratified outputs](#age-stratified-outputs)\n",
    "\n",
    "*Notes*\n",
    "\n",
    "Output was generated using commit number `xxxxx` of the [COVID19-IBM](https://github.com/p-robot/COVID19-IBM.git) repository on 17-Apr-20."
   ]
  },
  {
   "cell_type": "code",
   "execution_count": null,
   "metadata": {},
   "outputs": [],
   "source": [
    "%matplotlib inline\n",
    "%config InlineBackend.figure_format ='retina'\n",
    "import numpy as np, pandas as pd, matplotlib.pyplot as plt\n",
    "import os, re, importlib\n",
    "from os.path import join\n",
    "from IPython.display import display\n",
    "import plotting, constant"
   ]
  },
  {
   "cell_type": "markdown",
   "metadata": {},
   "source": [
    "### Model parameters"
   ]
  },
  {
   "cell_type": "code",
   "execution_count": null,
   "metadata": {},
   "outputs": [],
   "source": [
    "from COVID19.model import Model, Parameters, ModelParameterException\n",
    "import COVID19.simulation as simulation\n",
    "\n",
    "input_parameter_file = \"../tests/data/baseline_parameters.csv\"\n",
    "parameter_line_number = 1\n",
    "output_dir = \".\"\n",
    "household_demographics_file = \"../tests/data/baseline_household_demographics.csv\""
   ]
  },
  {
   "cell_type": "markdown",
   "metadata": {},
   "source": [
    "### Run model"
   ]
  },
  {
   "cell_type": "code",
   "execution_count": null,
   "metadata": {},
   "outputs": [],
   "source": [
    "params = Parameters(input_parameter_file, parameter_line_number, output_dir, household_demographics_file)\n",
    "\n",
    "T = 150\n",
    "params.set_param(\"end_time\", T)\n",
    "params.set_param(\"n_total\", 100000)\n",
    "\n",
    "model = simulation.COVID19IBM(model = Model(params))\n",
    "sim = simulation.Simulation(env = model, end_time = T)\n",
    "sim.steps(150)"
   ]
  },
  {
   "cell_type": "code",
   "execution_count": null,
   "metadata": {},
   "outputs": [],
   "source": [
    "df_timeseries = pd.DataFrame(sim.results)"
   ]
  },
  {
   "cell_type": "markdown",
   "metadata": {},
   "source": [
    "### Write and import output data"
   ]
  },
  {
   "cell_type": "code",
   "execution_count": null,
   "metadata": {},
   "outputs": [],
   "source": [
    "# Write output to file\n",
    "sim.env.model.write_output_files()\n",
    "\n",
    "# Import file with information on all individuals\n",
    "df_indiv = pd.read_csv(join(output_dir, \"individual_file_Run1.csv\"), skipinitialspace = True)\n",
    "\n",
    "# Import transmission file\n",
    "df_trans = pd.read_csv(join(output_dir, \"transmission_Run1.csv\"))\n",
    "\n",
    "# Import data on interactions in the last day of the simulation\n",
    "df_interact = pd.read_csv(join(output_dir, \"interactions_Run1.csv\"))"
   ]
  },
  {
   "cell_type": "markdown",
   "metadata": {},
   "source": [
    "### Import parameter file"
   ]
  },
  {
   "cell_type": "code",
   "execution_count": null,
   "metadata": {},
   "outputs": [],
   "source": [
    "# Input parameters\n",
    "df_parameters = pd.read_csv(input_parameter_file)"
   ]
  },
  {
   "cell_type": "markdown",
   "metadata": {},
   "source": [
    "### Define plotting constants"
   ]
  },
  {
   "cell_type": "code",
   "execution_count": null,
   "metadata": {},
   "outputs": [],
   "source": [
    "importlib.reload(constant)\n",
    "infector_types = [e.value for e in constant.EVENT_TYPES if e.name != \"N_EVENT_TYPES\"]\n",
    "infector_labels = [e.name for e in constant.EVENT_TYPES if e.name != \"N_EVENT_TYPES\"]\n",
    "\n",
    "interaction_types = [c.value for c in constant.INTERACTION_TYPE if c.name != \"N_INTERACTION_TYPES\"]\n",
    "interaction_labels = [c.name.title() for c in constant.INTERACTION_TYPE if c.name != \"N_INTERACTION_TYPES\"]\n",
    "\n",
    "infectious_compartments = [\"PRESYMPTOMATIC\", \"PRESYMPTOMATIC_MILD\", \n",
    "    \"ASYMPTOMATIC\", \"SYMPTOMATIC\", \"SYMPTOMATIC_MILD\"]\n",
    "infectious_types = [c.name for c in constant.EVENT_TYPES if c.name in infectious_compartments]\n",
    "infectious_labels = [constant.EVENT_TYPE_STRING[c.value] for c in constant.EVENT_TYPES if c.name in infectious_compartments]\n",
    "\n",
    "# Define age groups and labels <- FIXME: change to Enum in constant.py\n",
    "n_age = 9\n",
    "labs = [\"{} - {}\".format(10*i, 10*(i+1)-1) for i in np.arange(0, n_age - 1)]\n",
    "age_group_labels = labs + [\"80+\"]\n",
    "\n",
    "plt.rcParams['figure.figsize'] = [14, 8]"
   ]
  },
  {
   "cell_type": "markdown",
   "metadata": {},
   "source": [
    "# Parameter values and assumptions <a class=\"anchor\" id=\"parameter-values-assumptions\"></a>\n",
    "[[Home](#home)]\n",
    "\n",
    "Key parameter values for the simulations below.  "
   ]
  },
  {
   "cell_type": "code",
   "execution_count": null,
   "metadata": {},
   "outputs": [],
   "source": [
    "df_parameters[plotting.key_params].T.set_axis([\"Parameter value\"], axis = 1, inplace = False).rename_axis(\"Parameter name\", axis = 0).reset_index().style.hide_index().set_precision(4)"
   ]
  },
  {
   "cell_type": "markdown",
   "metadata": {},
   "source": [
    "## Waiting time distributions"
   ]
  },
  {
   "cell_type": "code",
   "execution_count": null,
   "metadata": {},
   "outputs": [],
   "source": [
    "fig, ax = plotting.ParameterAssumptions(df_parameters)"
   ]
  },
  {
   "cell_type": "markdown",
   "metadata": {},
   "source": [
    "## Age-specific parameters"
   ]
  },
  {
   "cell_type": "code",
   "execution_count": null,
   "metadata": {},
   "outputs": [],
   "source": [
    "importlib.reload(plotting)\n",
    "age_params = [\n",
    "    df_parameters[plotting.susceptibility_cols].values[0], # FIXME: <- adjust to use list comprehension to pull colnames\n",
    "    df_parameters[plotting.asymptomatic_cols].values[0],\n",
    "    df_parameters[plotting.hospitalised_cols].values[0],\n",
    "    df_parameters[plotting.critical_cols].values[0],\n",
    "    df_parameters[plotting.fatality_cols].values[0],\n",
    "    df_parameters[plotting.mild_cols].values[0],\n",
    "    df_parameters[plotting.app_users_cols].values[0]]\n",
    "\n",
    "df = pd.DataFrame(age_params)\n",
    "df.columns = age_group_labels\n",
    "df.rename(index = {0:'Relative susceptibility', \n",
    "                   1:'Pr( asymptomatic | infected )',\n",
    "                   2:'Pr( hospitalisation | symptomatic )',\n",
    "                   3:'Pr( ICU | hospitalised )',\n",
    "                   4:'Pr( death | ICU )',\n",
    "                   5:'Pr( mild | infected )',\n",
    "                   6:'Pr( app users )'\n",
    "                  }, inplace = True)\n",
    "display(df)"
   ]
  },
  {
   "cell_type": "markdown",
   "metadata": {},
   "source": [
    "## Intervention parameters"
   ]
  },
  {
   "cell_type": "code",
   "execution_count": null,
   "metadata": {},
   "outputs": [],
   "source": [
    "df_parameters[plotting.intervention_params].T.set_axis([\"Parameter value\"], axis = 1, inplace = False).rename_axis(\"Parameter name\", axis = 0).reset_index().style.hide_index().set_precision(2)"
   ]
  },
  {
   "cell_type": "markdown",
   "metadata": {},
   "source": [
    "# Time series <a class=\"anchor\" id=\"time-series\"></a>\n",
    "[[Home](#home)]\n",
    "\n",
    "Figures of the epidemic trajectory for a single parameter set.  "
   ]
  },
  {
   "cell_type": "code",
   "execution_count": null,
   "metadata": {},
   "outputs": [],
   "source": [
    "importlib.reload(plotting)\n",
    "plt.rcParams['figure.figsize'] = [14, 12]\n",
    "fig, ax = plotting.EpidemicCurves(df_timeseries, xlimits = [0, 150]) # FIXME: Update lockdown shading; add mild/severe"
   ]
  },
  {
   "cell_type": "markdown",
   "metadata": {},
   "source": [
    "# Interactions <a class=\"anchor\" id=\"interactions\"></a>\n",
    "[[Home](#home)]\n",
    "\n",
    "Summaries of interactions within the model\n"
   ]
  },
  {
   "cell_type": "code",
   "execution_count": null,
   "metadata": {},
   "outputs": [],
   "source": [
    "# Count interactions for each individual by \"type\" of interaction\n",
    "df_agg = df_interact.groupby([\"ID\", \"type\"])[\"ID\"].count().reset_index(name = \"count\")\n",
    "\n",
    "# Plot histogram of interaction by network type\n",
    "fig, ax = plotting.BarByGroup(df_agg, groupvar = \"type\", binvar = \"count\", \n",
    "    groups = interaction_types, bins = 30, group_colours = plotting.network_colours, \n",
    "    group_labels = interaction_labels, \n",
    "    xlabel = \"Number of daily connections\", \n",
    "    title = \"Number of daily interactions by network type\", \n",
    "    legend_title = \"Network type\")"
   ]
  },
  {
   "cell_type": "code",
   "execution_count": null,
   "metadata": {
    "scrolled": false
   },
   "outputs": [],
   "source": [
    "# Plot histogram of interaction by network type\n",
    "fig, ax = plotting.PlotInteractionsByAge(df_interact)"
   ]
  },
  {
   "cell_type": "markdown",
   "metadata": {},
   "source": [
    "\n",
    "# Transmission network <a class=\"anchor\" id=\"transmission-network\"></a>\n",
    "[[Home](#home)]\n"
   ]
  },
  {
   "cell_type": "markdown",
   "metadata": {},
   "source": [
    "### Proportion of all transmission from infectious status of source"
   ]
  },
  {
   "cell_type": "code",
   "execution_count": null,
   "metadata": {},
   "outputs": [],
   "source": [
    "percent_trans_infector_status = 100*df_trans.infector_status.value_counts()/df_trans.shape[0]\n",
    "percent_trans_infector_status = percent_trans_infector_status.reset_index()\n",
    "percent_trans_infector_status.columns = [\"infector_status\", \"percent_transmissions\"]\n",
    "percent_trans_infector_status[\"name\"] = percent_trans_infector_status.infector_status.map(lambda x: constant.EVENT_TYPE_STRING[constant.EVENT_TYPES(x).value])\n",
    "\n",
    "display(percent_trans_infector_status[percent_trans_infector_status.percent_transmissions > 0].style.hide_index())"
   ]
  },
  {
   "cell_type": "markdown",
   "metadata": {},
   "source": [
    "### Proportion of all transmission from infectious status of source, through time"
   ]
  },
  {
   "cell_type": "code",
   "execution_count": null,
   "metadata": {},
   "outputs": [],
   "source": [
    "# Fixme update incidence calculation\n",
    "plt.rcParams['figure.figsize'] = [14, 12]\n",
    "fig, ax = plotting.ProportionTransmissionsThroughTime(df_trans, \n",
    "    groupvar = \"infector_status\", groups = infector_types, \n",
    "    infectiontimevar = \"time_infected\", \n",
    "    start = 20, stop = 100, window = 5, ylims = [0, 100])"
   ]
  },
  {
   "cell_type": "markdown",
   "metadata": {},
   "source": [
    "### Generation time by infection status of source : fixme use infector type labels"
   ]
  },
  {
   "cell_type": "code",
   "execution_count": null,
   "metadata": {
    "scrolled": false
   },
   "outputs": [],
   "source": [
    "plt.rcParams['figure.figsize'] = [12, 8]\n",
    "fig, ax = plotting.PlotStackedHistByGroup(df_trans, \n",
    "        groupvar = \"infector_status\", countvar = \"infector_infected_time\", \n",
    "        NBINS = 18, group_labels = infector_labels,\n",
    "        xlabel = \"Generation time\", ylabel = \"Count\")"
   ]
  },
  {
   "cell_type": "code",
   "execution_count": null,
   "metadata": {},
   "outputs": [],
   "source": [
    "# fixme: use infector type labels\n",
    "importlib.reload(plotting)\n",
    "plt.rcParams['figure.figsize'] = [16, 6]\n",
    "\n",
    "df_sub = df_trans[df_trans.infector_network >= 0]\n",
    "max_gen_time = df_sub.infector_infected_time.max()\n",
    "\n",
    "fig, ax = plotting.PlotStackedHistByGroupByPanel(df_sub, \n",
    "    groupvar = \"infector_status\", countvar = \"infector_infected_time\", NBINS = max_gen_time,\n",
    "    panelvar = \"infector_network\",\n",
    "    group_labels = infector_labels, ylims = [0, 10000],\n",
    "    xlabel = \"Generation time\", ylabel = \"Count\", \n",
    "    panel_labels = [\"Household\", \"Workplace\", \"Random\"])"
   ]
  },
  {
   "cell_type": "code",
   "execution_count": null,
   "metadata": {},
   "outputs": [],
   "source": [
    "# Fixme: add plot of transmission events by age and network type\n",
    "# Add plots where bars are side-by-side\n",
    "# importlib.reload(plotting)\n",
    "# plt.rcParams['figure.figsize'] = [16, 10]\n",
    "\n",
    "# df_sub = df_trans[df_trans.infector_network >= 0]\n",
    "# max_gen_time = df_sub.infector_infected_time.max()\n",
    "# print(df_sub.head())\n",
    "# fig, ax = plotting.BarByGroupByPanel(\n",
    "#     df_sub,\n",
    "#     binvar = \"infector_infected_time\", \n",
    "#     panelvar = \"infector_network\",\n",
    "#     groupvar = \"infector_status\", \n",
    "#     groups = infectious_types, \n",
    "#     group_labels = infectious_labels, \n",
    "#     NBINS = max_gen_time, \n",
    "#     xlabel = \"Generation time\", \n",
    "#     title = \"\",\n",
    "#     legend_title = \"Network type\")"
   ]
  },
  {
   "cell_type": "code",
   "execution_count": null,
   "metadata": {},
   "outputs": [],
   "source": [
    "fig, ax = plotting.PlotStackedHistByGroup(df_trans, \n",
    "        groupvar = \"age_group\", countvar = \"infector_infected_time\", NBINS = 18,\n",
    "        group_labels = age_group_labels, legend_title = \"Age group\",\n",
    "        xlabel = \"Generation time\", ylabel = \"Count\", )"
   ]
  },
  {
   "cell_type": "code",
   "execution_count": null,
   "metadata": {},
   "outputs": [],
   "source": [
    "# Plot histogram of interaction by network type\n",
    "fig, ax = plotting.BarByGroup(df_trans, groupvar = \"age_group\", binvar = \"infector_infected_time\", \n",
    "        bins = 30, group_labels = age_group_labels, \n",
    "        density = True, xlimits = [0, 15], title = \"\", xlabel = \"Generation time (days)\", ylabel = \"Density\", \n",
    "        legend_title = \"Age group\")"
   ]
  },
  {
   "cell_type": "markdown",
   "metadata": {},
   "source": [
    "### Transmission events by age of infected individual and location of infection event"
   ]
  },
  {
   "cell_type": "code",
   "execution_count": null,
   "metadata": {},
   "outputs": [],
   "source": [
    "# fixme: adjust x tick labels\n",
    "\n",
    "plt.rcParams['figure.figsize'] = [16, 6]\n",
    "fig, ax = plotting.PlotStackedHistByGroup(df_trans[df_trans.infector_network >= 0], \n",
    "        groupvar = \"infector_network\", countvar = \"age_group\",\n",
    "        NBINS = n_age + 1, group_labels = [\"Household\", \"Workplace\", \"Random\"],\n",
    "        xlabel = \"Age of infected\", ylabel = \"Count\",\n",
    "        legend_loc = \"best\", xticklabels = age_group_labels)"
   ]
  },
  {
   "cell_type": "code",
   "execution_count": null,
   "metadata": {},
   "outputs": [],
   "source": [
    "# fixme: adjust x tick labels\n",
    "importlib.reload(plotting)\n",
    "plt.rcParams['figure.figsize'] = [16, 10]\n",
    "\n",
    "fig, ax = plotting.BarByGroup(df_trans[df_trans.infector_network >= 0], \n",
    "    groupvar = \"infector_network\", binvar = \"age_group\", \n",
    "    groups = [0, 1, 2], bins = n_age, group_colours = plotting.network_colours,\n",
    "    group_labels = [\"Household\", \"Workplace\", \"Random\"], \n",
    "    xlabel = \"Age group of infected individual\", \n",
    "    title = \"Transmission events by age and network type\",\n",
    "    legend_title = \"Network type\", xticklabels = age_group_labels)"
   ]
  },
  {
   "cell_type": "markdown",
   "metadata": {},
   "source": [
    "### Transmission events stratified by age\n",
    "\n",
    "Of all transmission events, the following figure shows the distribution of transmission events (2D histogram) stratified by the age of the source and recipient.  "
   ]
  },
  {
   "cell_type": "code",
   "execution_count": null,
   "metadata": {
    "scrolled": false
   },
   "outputs": [],
   "source": [
    "fig, ax = plotting.transmission_heatmap_by_age(df_trans, \"age_group\", \"age_group_2\", bins = n_age + 1,\n",
    "        xlabel = \"Age of infected\", ylabel = \"Age of infector\", legend_title = \"Count\",\n",
    "        xticklabels = age_group_labels, yticklabels = age_group_labels)"
   ]
  },
  {
   "cell_type": "markdown",
   "metadata": {},
   "source": [
    "### Transmission events by age (normalised by age of recipient)\n",
    "\n",
    "Of all transmission events to individuals of a particular age group, the following figure shows the distribution of the age of those that infect them.  "
   ]
  },
  {
   "cell_type": "code",
   "execution_count": null,
   "metadata": {
    "scrolled": false
   },
   "outputs": [],
   "source": [
    "fig, ax = plotting.transmission_heatmap_by_age(df_trans, \"age_group\", \"age_group_2\", bins = n_age + 1,\n",
    "        xlabel = \"Age of infected\", ylabel = \"Age of infector\", legend_title = \"Proportion of transmissions\",\n",
    "        xticklabels = age_group_labels, yticklabels = age_group_labels, normalise = True)"
   ]
  },
  {
   "cell_type": "markdown",
   "metadata": {},
   "source": [
    "The same data can also be visualised as a stacked bar chart.  "
   ]
  },
  {
   "cell_type": "code",
   "execution_count": null,
   "metadata": {},
   "outputs": [],
   "source": [
    "# fixme: tick label font sizes, alignment of tick labels\n",
    "fig, ax = plotting.PlotStackedHistByGroup(df_trans[df_trans.infector_network >= 0], \n",
    "        groupvar = \"age_group_2\", countvar = \"age_group\",\n",
    "        NBINS = n_age + 1, group_labels = age_group_labels,\n",
    "        xlabel = \"Age of infected\", ylabel = \"Count\",\n",
    "        legend_title = \"Age of infector\",\n",
    "        legend_loc = \"best\", xticklabels = age_group_labels)"
   ]
  },
  {
   "cell_type": "markdown",
   "metadata": {},
   "source": [
    "### Distribution of transmission events by age and network type"
   ]
  },
  {
   "cell_type": "code",
   "execution_count": null,
   "metadata": {},
   "outputs": [],
   "source": [
    "# fixme: legend reshaping final axis object\n",
    "# Distribution of trans events by age & network type\n",
    "# (i.e. network within which transmission event occured)\n",
    "# fig, ax = plotting.AgeHeatMapTransmissionsGroups(df_trans[df_trans.infector_network >= 0], \n",
    "#         \"age_group\", \"age_group_2\", by = \"infector_network\", NBINS = n_age + 1, \n",
    "#         xlabel = \"Age of infected\", ylabel = \"Age of infector\", \n",
    "#         legend_title = \"Count\", xticklabels = age_group_labels, \n",
    "#         yticklabels = age_group_labels)"
   ]
  },
  {
   "cell_type": "code",
   "execution_count": null,
   "metadata": {},
   "outputs": [],
   "source": [
    "# fixme: legend reshaping final axis object\n",
    "\n",
    "# Dist. of transmission events by network type \n",
    "# normalised across age cohorts of infected individuals\n",
    "# (i.e. network within which transmission event occured)\n",
    "# fig, ax = plotting.transmission_heatmap_by_age_by_panels(df_trans[df_trans.infector_network >= 0], \n",
    "#         \"age_group\", \"age_group_2\", panelvar = \"infector_network\", NBINS = n_age + 1, \n",
    "#         xlabel = \"Age of infected\", ylabel = \"Age of infector\", \n",
    "#         panel_labels = interaction_labels, \n",
    "#         legend_title = \"Proportion\", xticklabels = age_group_labels, \n",
    "#         yticklabels = age_group_labels, normalise = True)"
   ]
  },
  {
   "cell_type": "markdown",
   "metadata": {},
   "source": [
    "# Empirical effective reproductive number ($R_{eff}$) <a class=\"anchor\" id=\"effective-reproduction-number\"></a>\n",
    "[[Home](#home)]"
   ]
  },
  {
   "cell_type": "code",
   "execution_count": null,
   "metadata": {},
   "outputs": [],
   "source": [
    "# fixme: redo calculations (currently under-estimates R-eff as takes individuals in a disease state at the start of the window\n",
    "# and assumes they are in that state for the remainder of the window period)\n",
    "fig, ax = plotting.PlotREffective(df_indiv, df_trans, start = 1, stop = 100, window = 5)"
   ]
  },
  {
   "cell_type": "markdown",
   "metadata": {},
   "source": [
    "# Age-stratified outputs <a class=\"anchor\" id=\"age-stratified-outputs\"></a>\n",
    "\n",
    "Age stratification across different states.  Pr(Age | State)\n",
    "\n",
    "[[Home](#home)]"
   ]
  },
  {
   "cell_type": "code",
   "execution_count": null,
   "metadata": {
    "scrolled": false
   },
   "outputs": [],
   "source": [
    "plt.rcParams['figure.figsize'] = [12, 12]\n",
    "groupvars = [\"time_infected\", \"time_recovered\", \"time_presypmtomatic_mild\", \"time_presypmtomatic_severe\"]\n",
    "labels = [\"Infected\", \"Recovered\", \"Pre-symp mild\", \"Pre-symp severe\"]\n",
    "\n",
    "importlib.reload(plotting)\n",
    "fig, ax = plotting.PlotHistByAge(df_indiv, groupvars = groupvars, group_labels = labels,\n",
    "    NBINS = n_age, density = True, xticklabels = age_group_labels, xlabel = \"Age group\",\n",
    "    ylim = 0.25)"
   ]
  },
  {
   "cell_type": "code",
   "execution_count": null,
   "metadata": {},
   "outputs": [],
   "source": [
    "plt.rcParams['figure.figsize'] = [12, 12]\n",
    "groupvars = [\"time_hospitalised\", \"time_critical\", \"time_death\"]\n",
    "labels = [\"Hospitalisations\", \"ICU\", \"Deaths\"]\n",
    "\n",
    "importlib.reload(plotting)\n",
    "fig, ax = plotting.PlotHistByAge(df_indiv, groupvars = groupvars, group_labels = labels,\n",
    "    NBINS = n_age, density = True, xticklabels = age_group_labels, xlabel = \"Age group\",\n",
    "    ylim = 0.5)"
   ]
  },
  {
   "cell_type": "code",
   "execution_count": null,
   "metadata": {},
   "outputs": [],
   "source": [
    "plt.rcParams['figure.figsize'] = [12, 8]\n",
    "fig, ax = plotting.PlotHistIFRByAge(df_indiv, \"time_death\", \"time_infected\", NBINS = n_age, \n",
    "    xticklabels = age_group_labels, xlabel = \"Age group\")"
   ]
  },
  {
   "cell_type": "code",
   "execution_count": null,
   "metadata": {},
   "outputs": [],
   "source": []
  }
 ],
 "metadata": {
  "kernelspec": {
   "display_name": "Python 3",
   "language": "python",
   "name": "python3"
  },
  "language_info": {
   "codemirror_mode": {
    "name": "ipython",
    "version": 3
   },
   "file_extension": ".py",
   "mimetype": "text/x-python",
   "name": "python",
   "nbconvert_exporter": "python",
   "pygments_lexer": "ipython3",
   "version": "3.8.0"
  }
 },
 "nbformat": 4,
 "nbformat_minor": 2
}
